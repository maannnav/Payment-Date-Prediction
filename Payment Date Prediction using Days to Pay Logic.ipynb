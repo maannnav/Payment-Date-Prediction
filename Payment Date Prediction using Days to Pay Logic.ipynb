{
 "cells": [
  {
   "cell_type": "code",
   "execution_count": 1,
   "metadata": {},
   "outputs": [
    {
     "data": {
      "text/plain": [
       "'Data Dictionary - \\n\\nbusiness_code - company code of the account\\ncust_number - customer number given to all the customers of the Account\\nname_customer - name of the customer\\nclear_date - The date on which the customer clears an invoice, or in simple terms, they make the full payment.\\nbuisness_year - \\ndoc_id - It is also an unique identifier of an invoice is a primary key for acct_doc_header table\\nposting_date - \\ndocument_create_date - The date on which the invoice document was created\\ndocument_create_date.1 - \\ndue_in_date - The date on which the customer is expected to clear an invoice\\ninvoice_currency - The currency of the invoice amount in the document for the invoice\\ndocument type - It represents the type of document. eg D1 represents Invoice\\nposting_id - key indicator to identify whether an AR item is invoice, deduction, credit memo based on its value. Apllicable for SAP ERP\\narea_business - Business area in sap is defined as an organisationalarea within the financial accounting module.\\ntotal_open_amount - The amount that is yet to be paid for that invoice\\nbaseline_create_date - The date on which the Invoice was created.\\ncust_payment_terms - Business terms and agreements between customers and accounts on discounts and days of payment\\ninvoice_id - Unique number assigned when a seller creates an Invoice.\\nisOpen - indicator of whether an invoice is open or closed. isopen = 1, means the invoice is open.\\n'"
      ]
     },
     "execution_count": 1,
     "metadata": {},
     "output_type": "execute_result"
    }
   ],
   "source": [
    "'''Data Dictionary - \n",
    "\n",
    "business_code - company code of the account\n",
    "cust_number - customer number given to all the customers of the Account\n",
    "name_customer - name of the customer\n",
    "clear_date - The date on which the customer clears an invoice, or in simple terms, they make the full payment.\n",
    "buisness_year - \n",
    "doc_id - It is also an unique identifier of an invoice is a primary key for acct_doc_header table\n",
    "posting_date - \n",
    "document_create_date - The date on which the invoice document was created\n",
    "document_create_date.1 - \n",
    "due_in_date - The date on which the customer is expected to clear an invoice\n",
    "invoice_currency - The currency of the invoice amount in the document for the invoice\n",
    "document type - It represents the type of document. eg D1 represents Invoice\n",
    "posting_id - key indicator to identify whether an AR item is invoice, deduction, credit memo based on its value. Apllicable for SAP ERP\n",
    "area_business - Business area in sap is defined as an organisationalarea within the financial accounting module.\n",
    "total_open_amount - The amount that is yet to be paid for that invoice\n",
    "baseline_create_date - The date on which the Invoice was created.\n",
    "cust_payment_terms - Business terms and agreements between customers and accounts on discounts and days of payment\n",
    "invoice_id - Unique number assigned when a seller creates an Invoice.\n",
    "isOpen - indicator of whether an invoice is open or closed. isopen = 1, means the invoice is open.\n",
    "'''"
   ]
  },
  {
   "cell_type": "code",
   "execution_count": 5,
   "metadata": {},
   "outputs": [],
   "source": [
    "#Importing Libraries\n",
    "import pandas as pd\n",
    "import numpy as np\n",
    "import datetime"
   ]
  },
  {
   "cell_type": "code",
   "execution_count": 6,
   "metadata": {},
   "outputs": [],
   "source": [
    "data = pd.read_csv('1828166.csv') #Reads the data file "
   ]
  },
  {
   "cell_type": "code",
   "execution_count": 7,
   "metadata": {},
   "outputs": [],
   "source": [
    "data.buisness_year = data.buisness_year.astype(int)"
   ]
  },
  {
   "cell_type": "code",
   "execution_count": 8,
   "metadata": {},
   "outputs": [
    {
     "name": "stdout",
     "output_type": "stream",
     "text": [
      "'clear_date',\n",
      "'posting_date',\n",
      "'document_create_date',\n",
      "'document_create_date.1',\n",
      "'due_in_date',\n",
      "'baseline_create_date',\n"
     ]
    }
   ],
   "source": [
    "for i in data.columns:\n",
    "    if \"date\" in i:\n",
    "        print(f\"'{i}',\")"
   ]
  },
  {
   "cell_type": "code",
   "execution_count": 9,
   "metadata": {},
   "outputs": [],
   "source": [
    "data.clear_date = pd.to_datetime(data.clear_date,errors=\"coerce\")\n",
    "data.posting_date = pd.to_datetime(data.posting_date,errors=\"coerce\")\n",
    "data['document_create_date'] = pd.to_datetime(data['document_create_date'], format='%Y%m%d')\n",
    "data['document_create_date.1'] = pd.to_datetime(data['document_create_date.1'], format='%Y%m%d')\n",
    "data['due_in_date'] = pd.to_datetime(data['due_in_date'], format='%Y%m%d')\n",
    "data['baseline_create_date'] = pd.to_datetime(data['baseline_create_date'], format='%Y%m%d')"
   ]
  },
  {
   "cell_type": "code",
   "execution_count": 10,
   "metadata": {},
   "outputs": [
    {
     "data": {
      "text/plain": [
       "RV    49994\n",
       "X2        6\n",
       "Name: document type, dtype: int64"
      ]
     },
     "execution_count": 10,
     "metadata": {},
     "output_type": "execute_result"
    }
   ],
   "source": [
    "data[\"document type\"].value_counts()"
   ]
  },
  {
   "cell_type": "code",
   "execution_count": 11,
   "metadata": {},
   "outputs": [],
   "source": [
    "data = data[data[\"document type\"]==\"RV\"]"
   ]
  },
  {
   "cell_type": "code",
   "execution_count": 12,
   "metadata": {},
   "outputs": [
    {
     "name": "stdout",
     "output_type": "stream",
     "text": [
      "(3447, 19)\n",
      "(46547, 19)\n"
     ]
    }
   ],
   "source": [
    "test_data = data[data[\"isOpen\"]==1]\n",
    "train_data = data[data[\"isOpen\"]==0]\n",
    "print(test_data.shape)\n",
    "print(train_data.shape)"
   ]
  },
  {
   "cell_type": "code",
   "execution_count": 13,
   "metadata": {},
   "outputs": [
    {
     "name": "stderr",
     "output_type": "stream",
     "text": [
      "<ipython-input-13-842f18acb0f2>:1: SettingWithCopyWarning: \n",
      "A value is trying to be set on a copy of a slice from a DataFrame.\n",
      "Try using .loc[row_indexer,col_indexer] = value instead\n",
      "\n",
      "See the caveats in the documentation: https://pandas.pydata.org/pandas-docs/stable/user_guide/indexing.html#returning-a-view-versus-a-copy\n",
      "  train_data[\"days_to_pay\"] = (train_data[\"clear_date\"] - train_data[\"posting_date\"]).dt.days\n"
     ]
    }
   ],
   "source": [
    "train_data[\"days_to_pay\"] = (train_data[\"clear_date\"] - train_data[\"posting_date\"]).dt.days"
   ]
  },
  {
   "cell_type": "code",
   "execution_count": 14,
   "metadata": {},
   "outputs": [],
   "source": [
    "mapper = train_data.groupby(by=\"cust_number\")[\"days_to_pay\"].mean().reset_index()"
   ]
  },
  {
   "cell_type": "code",
   "execution_count": 15,
   "metadata": {},
   "outputs": [
    {
     "data": {
      "text/plain": [
       "18.165209358283025"
      ]
     },
     "execution_count": 15,
     "metadata": {},
     "output_type": "execute_result"
    }
   ],
   "source": [
    "overall_average = train_data.days_to_pay.mean()\n",
    "overall_average"
   ]
  },
  {
   "cell_type": "code",
   "execution_count": 16,
   "metadata": {},
   "outputs": [],
   "source": [
    "test_cust = test_data.cust_number.unique()\n",
    "train_cust = train_data.cust_number.unique()"
   ]
  },
  {
   "cell_type": "code",
   "execution_count": 17,
   "metadata": {},
   "outputs": [
    {
     "data": {
      "text/html": [
       "<div>\n",
       "<style scoped>\n",
       "    .dataframe tbody tr th:only-of-type {\n",
       "        vertical-align: middle;\n",
       "    }\n",
       "\n",
       "    .dataframe tbody tr th {\n",
       "        vertical-align: top;\n",
       "    }\n",
       "\n",
       "    .dataframe thead th {\n",
       "        text-align: right;\n",
       "    }\n",
       "</style>\n",
       "<table border=\"1\" class=\"dataframe\">\n",
       "  <thead>\n",
       "    <tr style=\"text-align: right;\">\n",
       "      <th></th>\n",
       "      <th>business_code</th>\n",
       "      <th>cust_number</th>\n",
       "      <th>name_customer</th>\n",
       "      <th>clear_date</th>\n",
       "      <th>buisness_year</th>\n",
       "      <th>doc_id</th>\n",
       "      <th>posting_date</th>\n",
       "      <th>document_create_date</th>\n",
       "      <th>document_create_date.1</th>\n",
       "      <th>due_in_date</th>\n",
       "      <th>invoice_currency</th>\n",
       "      <th>document type</th>\n",
       "      <th>posting_id</th>\n",
       "      <th>area_business</th>\n",
       "      <th>total_open_amount</th>\n",
       "      <th>baseline_create_date</th>\n",
       "      <th>cust_payment_terms</th>\n",
       "      <th>invoice_id</th>\n",
       "      <th>isOpen</th>\n",
       "    </tr>\n",
       "  </thead>\n",
       "  <tbody>\n",
       "  </tbody>\n",
       "</table>\n",
       "</div>"
      ],
      "text/plain": [
       "Empty DataFrame\n",
       "Columns: [business_code, cust_number, name_customer, clear_date, buisness_year, doc_id, posting_date, document_create_date, document_create_date.1, due_in_date, invoice_currency, document type, posting_id, area_business, total_open_amount, baseline_create_date, cust_payment_terms, invoice_id, isOpen]\n",
       "Index: []"
      ]
     },
     "execution_count": 17,
     "metadata": {},
     "output_type": "execute_result"
    }
   ],
   "source": [
    "test_data[test_data[\"posting_date\"].isnull()]"
   ]
  },
  {
   "cell_type": "code",
   "execution_count": 18,
   "metadata": {},
   "outputs": [],
   "source": [
    "# for i in test_cust:\n",
    "#     if i not in train_cust:\n",
    "#         print(i)"
   ]
  },
  {
   "cell_type": "code",
   "execution_count": 19,
   "metadata": {},
   "outputs": [],
   "source": [
    "result = pd.merge(test_data, mapper, on=\"cust_number\", how = \"left\")"
   ]
  },
  {
   "cell_type": "code",
   "execution_count": 20,
   "metadata": {},
   "outputs": [],
   "source": [
    "result[\"days_to_pay\"] = np.where(result[\"days_to_pay\"].isnull(), overall_average, result[\"days_to_pay\"])"
   ]
  },
  {
   "cell_type": "code",
   "execution_count": 21,
   "metadata": {},
   "outputs": [
    {
     "data": {
      "text/html": [
       "<div>\n",
       "<style scoped>\n",
       "    .dataframe tbody tr th:only-of-type {\n",
       "        vertical-align: middle;\n",
       "    }\n",
       "\n",
       "    .dataframe tbody tr th {\n",
       "        vertical-align: top;\n",
       "    }\n",
       "\n",
       "    .dataframe thead th {\n",
       "        text-align: right;\n",
       "    }\n",
       "</style>\n",
       "<table border=\"1\" class=\"dataframe\">\n",
       "  <thead>\n",
       "    <tr style=\"text-align: right;\">\n",
       "      <th></th>\n",
       "      <th>business_code</th>\n",
       "      <th>cust_number</th>\n",
       "      <th>name_customer</th>\n",
       "      <th>clear_date</th>\n",
       "      <th>buisness_year</th>\n",
       "      <th>doc_id</th>\n",
       "      <th>posting_date</th>\n",
       "      <th>document_create_date</th>\n",
       "      <th>document_create_date.1</th>\n",
       "      <th>due_in_date</th>\n",
       "      <th>...</th>\n",
       "      <th>document type</th>\n",
       "      <th>posting_id</th>\n",
       "      <th>area_business</th>\n",
       "      <th>total_open_amount</th>\n",
       "      <th>baseline_create_date</th>\n",
       "      <th>cust_payment_terms</th>\n",
       "      <th>invoice_id</th>\n",
       "      <th>isOpen</th>\n",
       "      <th>days_to_pay</th>\n",
       "      <th>prediction_date</th>\n",
       "    </tr>\n",
       "  </thead>\n",
       "  <tbody>\n",
       "    <tr>\n",
       "      <th>0</th>\n",
       "      <td>U001</td>\n",
       "      <td>0200769623</td>\n",
       "      <td>WAL-MAR us</td>\n",
       "      <td>NaT</td>\n",
       "      <td>2020</td>\n",
       "      <td>1930778940.0</td>\n",
       "      <td>2020-04-12</td>\n",
       "      <td>2020-04-11</td>\n",
       "      <td>2020-04-12</td>\n",
       "      <td>2020-04-27</td>\n",
       "      <td>...</td>\n",
       "      <td>RV</td>\n",
       "      <td>1.0</td>\n",
       "      <td>NaN</td>\n",
       "      <td>13815.36</td>\n",
       "      <td>2020-04-12</td>\n",
       "      <td>NAH4</td>\n",
       "      <td>1.930779e+09</td>\n",
       "      <td>1</td>\n",
       "      <td>12.794509</td>\n",
       "      <td>2020-04-25</td>\n",
       "    </tr>\n",
       "    <tr>\n",
       "      <th>1</th>\n",
       "      <td>U001</td>\n",
       "      <td>0200936373</td>\n",
       "      <td>SUPE corporation</td>\n",
       "      <td>NaT</td>\n",
       "      <td>2020</td>\n",
       "      <td>1930739469.0</td>\n",
       "      <td>2020-04-02</td>\n",
       "      <td>2020-04-03</td>\n",
       "      <td>2020-04-02</td>\n",
       "      <td>2020-04-17</td>\n",
       "      <td>...</td>\n",
       "      <td>RV</td>\n",
       "      <td>1.0</td>\n",
       "      <td>NaN</td>\n",
       "      <td>88346.44</td>\n",
       "      <td>2020-04-02</td>\n",
       "      <td>NAA8</td>\n",
       "      <td>1.930739e+09</td>\n",
       "      <td>1</td>\n",
       "      <td>18.962644</td>\n",
       "      <td>2020-04-21</td>\n",
       "    </tr>\n",
       "    <tr>\n",
       "      <th>2</th>\n",
       "      <td>U001</td>\n",
       "      <td>0200769623</td>\n",
       "      <td>WAL-MAR trust</td>\n",
       "      <td>NaT</td>\n",
       "      <td>2020</td>\n",
       "      <td>1930675227.0</td>\n",
       "      <td>2020-03-20</td>\n",
       "      <td>2020-03-20</td>\n",
       "      <td>2020-03-20</td>\n",
       "      <td>2020-04-04</td>\n",
       "      <td>...</td>\n",
       "      <td>RV</td>\n",
       "      <td>1.0</td>\n",
       "      <td>NaN</td>\n",
       "      <td>12965.69</td>\n",
       "      <td>2020-03-20</td>\n",
       "      <td>NAH4</td>\n",
       "      <td>1.930675e+09</td>\n",
       "      <td>1</td>\n",
       "      <td>12.794509</td>\n",
       "      <td>2020-04-02</td>\n",
       "    </tr>\n",
       "    <tr>\n",
       "      <th>3</th>\n",
       "      <td>U001</td>\n",
       "      <td>0200769623</td>\n",
       "      <td>WAL-MAR systems</td>\n",
       "      <td>NaT</td>\n",
       "      <td>2020</td>\n",
       "      <td>1930725711.0</td>\n",
       "      <td>2020-04-01</td>\n",
       "      <td>2020-03-31</td>\n",
       "      <td>2020-04-01</td>\n",
       "      <td>2020-04-16</td>\n",
       "      <td>...</td>\n",
       "      <td>RV</td>\n",
       "      <td>1.0</td>\n",
       "      <td>NaN</td>\n",
       "      <td>14323.58</td>\n",
       "      <td>2020-04-01</td>\n",
       "      <td>NAH4</td>\n",
       "      <td>1.930726e+09</td>\n",
       "      <td>1</td>\n",
       "      <td>12.794509</td>\n",
       "      <td>2020-04-14</td>\n",
       "    </tr>\n",
       "    <tr>\n",
       "      <th>4</th>\n",
       "      <td>U013</td>\n",
       "      <td>CC6530</td>\n",
       "      <td>HEINZ corporation</td>\n",
       "      <td>NaT</td>\n",
       "      <td>2020</td>\n",
       "      <td>1991841230.0</td>\n",
       "      <td>2020-03-17</td>\n",
       "      <td>2020-03-17</td>\n",
       "      <td>2020-03-17</td>\n",
       "      <td>2020-05-01</td>\n",
       "      <td>...</td>\n",
       "      <td>RV</td>\n",
       "      <td>1.0</td>\n",
       "      <td>NaN</td>\n",
       "      <td>16216.22</td>\n",
       "      <td>2020-03-17</td>\n",
       "      <td>NAVF</td>\n",
       "      <td>1.991841e+09</td>\n",
       "      <td>1</td>\n",
       "      <td>67.578947</td>\n",
       "      <td>2020-05-24</td>\n",
       "    </tr>\n",
       "    <tr>\n",
       "      <th>...</th>\n",
       "      <td>...</td>\n",
       "      <td>...</td>\n",
       "      <td>...</td>\n",
       "      <td>...</td>\n",
       "      <td>...</td>\n",
       "      <td>...</td>\n",
       "      <td>...</td>\n",
       "      <td>...</td>\n",
       "      <td>...</td>\n",
       "      <td>...</td>\n",
       "      <td>...</td>\n",
       "      <td>...</td>\n",
       "      <td>...</td>\n",
       "      <td>...</td>\n",
       "      <td>...</td>\n",
       "      <td>...</td>\n",
       "      <td>...</td>\n",
       "      <td>...</td>\n",
       "      <td>...</td>\n",
       "      <td>...</td>\n",
       "      <td>...</td>\n",
       "    </tr>\n",
       "    <tr>\n",
       "      <th>3442</th>\n",
       "      <td>U001</td>\n",
       "      <td>0200407025</td>\n",
       "      <td>ALBERT in</td>\n",
       "      <td>NaT</td>\n",
       "      <td>2020</td>\n",
       "      <td>1930778416.0</td>\n",
       "      <td>2020-04-14</td>\n",
       "      <td>2020-04-11</td>\n",
       "      <td>2020-04-14</td>\n",
       "      <td>2020-04-29</td>\n",
       "      <td>...</td>\n",
       "      <td>RV</td>\n",
       "      <td>1.0</td>\n",
       "      <td>NaN</td>\n",
       "      <td>122734.80</td>\n",
       "      <td>2020-04-14</td>\n",
       "      <td>NAA8</td>\n",
       "      <td>1.930778e+09</td>\n",
       "      <td>1</td>\n",
       "      <td>22.131579</td>\n",
       "      <td>2020-05-06</td>\n",
       "    </tr>\n",
       "    <tr>\n",
       "      <th>3443</th>\n",
       "      <td>U001</td>\n",
       "      <td>0200769623</td>\n",
       "      <td>WAL-MAR associates</td>\n",
       "      <td>NaT</td>\n",
       "      <td>2020</td>\n",
       "      <td>1930772421.0</td>\n",
       "      <td>2020-04-10</td>\n",
       "      <td>2020-04-09</td>\n",
       "      <td>2020-04-10</td>\n",
       "      <td>2020-04-25</td>\n",
       "      <td>...</td>\n",
       "      <td>RV</td>\n",
       "      <td>1.0</td>\n",
       "      <td>NaN</td>\n",
       "      <td>50045.40</td>\n",
       "      <td>2020-04-10</td>\n",
       "      <td>NAH4</td>\n",
       "      <td>1.930772e+09</td>\n",
       "      <td>1</td>\n",
       "      <td>12.794509</td>\n",
       "      <td>2020-04-23</td>\n",
       "    </tr>\n",
       "    <tr>\n",
       "      <th>3444</th>\n",
       "      <td>U001</td>\n",
       "      <td>0200769623</td>\n",
       "      <td>WAL-MAR</td>\n",
       "      <td>NaT</td>\n",
       "      <td>2020</td>\n",
       "      <td>1930659564.0</td>\n",
       "      <td>2020-03-17</td>\n",
       "      <td>2020-03-16</td>\n",
       "      <td>2020-03-17</td>\n",
       "      <td>2020-04-01</td>\n",
       "      <td>...</td>\n",
       "      <td>RV</td>\n",
       "      <td>1.0</td>\n",
       "      <td>NaN</td>\n",
       "      <td>16067.93</td>\n",
       "      <td>2020-03-17</td>\n",
       "      <td>NAH4</td>\n",
       "      <td>1.930660e+09</td>\n",
       "      <td>1</td>\n",
       "      <td>12.794509</td>\n",
       "      <td>2020-03-30</td>\n",
       "    </tr>\n",
       "    <tr>\n",
       "      <th>3445</th>\n",
       "      <td>U001</td>\n",
       "      <td>0200769623</td>\n",
       "      <td>WAL-MAR in</td>\n",
       "      <td>NaT</td>\n",
       "      <td>2020</td>\n",
       "      <td>1930827753.0</td>\n",
       "      <td>2020-04-27</td>\n",
       "      <td>2020-04-25</td>\n",
       "      <td>2020-04-27</td>\n",
       "      <td>2020-05-12</td>\n",
       "      <td>...</td>\n",
       "      <td>RV</td>\n",
       "      <td>1.0</td>\n",
       "      <td>NaN</td>\n",
       "      <td>36834.06</td>\n",
       "      <td>2020-04-27</td>\n",
       "      <td>NAH4</td>\n",
       "      <td>1.930828e+09</td>\n",
       "      <td>1</td>\n",
       "      <td>12.794509</td>\n",
       "      <td>2020-05-10</td>\n",
       "    </tr>\n",
       "    <tr>\n",
       "      <th>3446</th>\n",
       "      <td>U001</td>\n",
       "      <td>0200407025</td>\n",
       "      <td>ALBERT foundation</td>\n",
       "      <td>NaT</td>\n",
       "      <td>2020</td>\n",
       "      <td>1930757868.0</td>\n",
       "      <td>2020-04-09</td>\n",
       "      <td>2020-04-07</td>\n",
       "      <td>2020-04-09</td>\n",
       "      <td>2020-04-24</td>\n",
       "      <td>...</td>\n",
       "      <td>RV</td>\n",
       "      <td>1.0</td>\n",
       "      <td>NaN</td>\n",
       "      <td>89429.25</td>\n",
       "      <td>2020-04-09</td>\n",
       "      <td>NAA8</td>\n",
       "      <td>1.930758e+09</td>\n",
       "      <td>1</td>\n",
       "      <td>22.131579</td>\n",
       "      <td>2020-05-01</td>\n",
       "    </tr>\n",
       "  </tbody>\n",
       "</table>\n",
       "<p>3447 rows × 21 columns</p>\n",
       "</div>"
      ],
      "text/plain": [
       "     business_code cust_number       name_customer clear_date  buisness_year  \\\n",
       "0             U001  0200769623          WAL-MAR us        NaT           2020   \n",
       "1             U001  0200936373    SUPE corporation        NaT           2020   \n",
       "2             U001  0200769623       WAL-MAR trust        NaT           2020   \n",
       "3             U001  0200769623     WAL-MAR systems        NaT           2020   \n",
       "4             U013      CC6530   HEINZ corporation        NaT           2020   \n",
       "...            ...         ...                 ...        ...            ...   \n",
       "3442          U001  0200407025           ALBERT in        NaT           2020   \n",
       "3443          U001  0200769623  WAL-MAR associates        NaT           2020   \n",
       "3444          U001  0200769623            WAL-MAR         NaT           2020   \n",
       "3445          U001  0200769623          WAL-MAR in        NaT           2020   \n",
       "3446          U001  0200407025   ALBERT foundation        NaT           2020   \n",
       "\n",
       "            doc_id posting_date document_create_date document_create_date.1  \\\n",
       "0     1930778940.0   2020-04-12           2020-04-11             2020-04-12   \n",
       "1     1930739469.0   2020-04-02           2020-04-03             2020-04-02   \n",
       "2     1930675227.0   2020-03-20           2020-03-20             2020-03-20   \n",
       "3     1930725711.0   2020-04-01           2020-03-31             2020-04-01   \n",
       "4     1991841230.0   2020-03-17           2020-03-17             2020-03-17   \n",
       "...            ...          ...                  ...                    ...   \n",
       "3442  1930778416.0   2020-04-14           2020-04-11             2020-04-14   \n",
       "3443  1930772421.0   2020-04-10           2020-04-09             2020-04-10   \n",
       "3444  1930659564.0   2020-03-17           2020-03-16             2020-03-17   \n",
       "3445  1930827753.0   2020-04-27           2020-04-25             2020-04-27   \n",
       "3446  1930757868.0   2020-04-09           2020-04-07             2020-04-09   \n",
       "\n",
       "     due_in_date  ... document type posting_id  area_business  \\\n",
       "0     2020-04-27  ...            RV        1.0            NaN   \n",
       "1     2020-04-17  ...            RV        1.0            NaN   \n",
       "2     2020-04-04  ...            RV        1.0            NaN   \n",
       "3     2020-04-16  ...            RV        1.0            NaN   \n",
       "4     2020-05-01  ...            RV        1.0            NaN   \n",
       "...          ...  ...           ...        ...            ...   \n",
       "3442  2020-04-29  ...            RV        1.0            NaN   \n",
       "3443  2020-04-25  ...            RV        1.0            NaN   \n",
       "3444  2020-04-01  ...            RV        1.0            NaN   \n",
       "3445  2020-05-12  ...            RV        1.0            NaN   \n",
       "3446  2020-04-24  ...            RV        1.0            NaN   \n",
       "\n",
       "      total_open_amount  baseline_create_date cust_payment_terms  \\\n",
       "0              13815.36            2020-04-12               NAH4   \n",
       "1              88346.44            2020-04-02               NAA8   \n",
       "2              12965.69            2020-03-20               NAH4   \n",
       "3              14323.58            2020-04-01               NAH4   \n",
       "4              16216.22            2020-03-17               NAVF   \n",
       "...                 ...                   ...                ...   \n",
       "3442          122734.80            2020-04-14               NAA8   \n",
       "3443           50045.40            2020-04-10               NAH4   \n",
       "3444           16067.93            2020-03-17               NAH4   \n",
       "3445           36834.06            2020-04-27               NAH4   \n",
       "3446           89429.25            2020-04-09               NAA8   \n",
       "\n",
       "        invoice_id  isOpen  days_to_pay  prediction_date  \n",
       "0     1.930779e+09       1    12.794509       2020-04-25  \n",
       "1     1.930739e+09       1    18.962644       2020-04-21  \n",
       "2     1.930675e+09       1    12.794509       2020-04-02  \n",
       "3     1.930726e+09       1    12.794509       2020-04-14  \n",
       "4     1.991841e+09       1    67.578947       2020-05-24  \n",
       "...            ...     ...          ...              ...  \n",
       "3442  1.930778e+09       1    22.131579       2020-05-06  \n",
       "3443  1.930772e+09       1    12.794509       2020-04-23  \n",
       "3444  1.930660e+09       1    12.794509       2020-03-30  \n",
       "3445  1.930828e+09       1    12.794509       2020-05-10  \n",
       "3446  1.930758e+09       1    22.131579       2020-05-01  \n",
       "\n",
       "[3447 rows x 21 columns]"
      ]
     },
     "execution_count": 21,
     "metadata": {},
     "output_type": "execute_result"
    }
   ],
   "source": [
    "result[\"prediction_date\"] = result[\"posting_date\"] + pd.to_timedelta(round(result[\"days_to_pay\"]), unit='D')\n",
    "result"
   ]
  },
  {
   "cell_type": "code",
   "execution_count": null,
   "metadata": {},
   "outputs": [],
   "source": []
  },
  {
   "cell_type": "code",
   "execution_count": null,
   "metadata": {},
   "outputs": [],
   "source": []
  }
 ],
 "metadata": {
  "kernelspec": {
   "display_name": "Python 3",
   "language": "python",
   "name": "python3"
  },
  "language_info": {
   "codemirror_mode": {
    "name": "ipython",
    "version": 3
   },
   "file_extension": ".py",
   "mimetype": "text/x-python",
   "name": "python",
   "nbconvert_exporter": "python",
   "pygments_lexer": "ipython3",
   "version": "3.9.4"
  }
 },
 "nbformat": 4,
 "nbformat_minor": 4
}
